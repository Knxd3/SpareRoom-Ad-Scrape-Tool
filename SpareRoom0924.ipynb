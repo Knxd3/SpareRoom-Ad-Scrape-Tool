{
 "cells": [
  {
   "cell_type": "code",
   "execution_count": 5,
   "id": "8d2d8e2f-afd9-4f5d-b7b8-1d76d1b8a3f0",
   "metadata": {},
   "outputs": [],
   "source": [
    "import time\n",
    "import numpy as np\n",
    "import pandas as pd\n",
    "from selenium import webdriver\n",
    "from selenium.webdriver.chrome.service import Service\n",
    "from bs4 import BeautifulSoup"
   ]
  },
  {
   "cell_type": "code",
   "execution_count": 6,
   "id": "923180cb-8215-45ba-b9a8-0283ac7cf7e5",
   "metadata": {},
   "outputs": [],
   "source": [
    "#### access URL in browser\n",
    "url = 'https://www.spareroom.co.uk/flatshare/?search_id=1323266289&mode=list'\n",
    "\n",
    "browser = webdriver.Chrome()\n",
    "browser.get(url)"
   ]
  },
  {
   "cell_type": "code",
   "execution_count": null,
   "id": "2809df70-5a74-4772-94a3-934b167de484",
   "metadata": {},
   "outputs": [],
   "source": []
  },
  {
   "cell_type": "code",
   "execution_count": null,
   "id": "58d1a367-8420-46a1-a7b2-429d59620597",
   "metadata": {},
   "outputs": [],
   "source": []
  }
 ],
 "metadata": {
  "kernelspec": {
   "display_name": "Python 3 (ipykernel)",
   "language": "python",
   "name": "python3"
  },
  "language_info": {
   "codemirror_mode": {
    "name": "ipython",
    "version": 3
   },
   "file_extension": ".py",
   "mimetype": "text/x-python",
   "name": "python",
   "nbconvert_exporter": "python",
   "pygments_lexer": "ipython3",
   "version": "3.10.14"
  }
 },
 "nbformat": 4,
 "nbformat_minor": 5
}
